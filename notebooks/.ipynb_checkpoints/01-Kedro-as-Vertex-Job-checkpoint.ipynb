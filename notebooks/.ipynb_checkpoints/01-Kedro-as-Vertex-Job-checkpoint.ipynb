{
 "cells": [
  {
   "cell_type": "code",
   "execution_count": 22,
   "id": "df959fbe-6394-4bf0-8857-494e0fd6dbd2",
   "metadata": {
    "collapsed": true,
    "jupyter": {
     "outputs_hidden": true
    },
    "tags": []
   },
   "outputs": [
    {
     "name": "stdout",
     "output_type": "stream",
     "text": [
      "Requirement already satisfied: google-cloud-aiplatform in /opt/conda/lib/python3.7/site-packages (1.23.0)\n",
      "Requirement already satisfied: google-cloud-storage<3.0.0dev,>=1.32.0 in /opt/conda/lib/python3.7/site-packages (from google-cloud-aiplatform) (2.8.0)\n",
      "Requirement already satisfied: protobuf!=3.20.0,!=3.20.1,!=4.21.0,!=4.21.1,!=4.21.2,!=4.21.3,!=4.21.4,!=4.21.5,<5.0.0dev,>=3.19.5 in /opt/conda/lib/python3.7/site-packages (from google-cloud-aiplatform) (3.20.3)\n",
      "Requirement already satisfied: google-cloud-resource-manager<3.0.0dev,>=1.3.3 in /opt/conda/lib/python3.7/site-packages (from google-cloud-aiplatform) (1.9.1)\n",
      "Requirement already satisfied: shapely<2.0.0 in /opt/conda/lib/python3.7/site-packages (from google-cloud-aiplatform) (1.8.5.post1)\n",
      "Requirement already satisfied: google-api-core[grpc]!=2.0.*,!=2.1.*,!=2.2.*,!=2.3.*,!=2.4.*,!=2.5.*,!=2.6.*,!=2.7.*,<3.0.0dev,>=1.32.0 in /opt/conda/lib/python3.7/site-packages (from google-cloud-aiplatform) (1.34.0)\n",
      "Requirement already satisfied: proto-plus<2.0.0dev,>=1.22.0 in /opt/conda/lib/python3.7/site-packages (from google-cloud-aiplatform) (1.22.2)\n",
      "Requirement already satisfied: google-cloud-bigquery<4.0.0dev,>=1.15.0 in /opt/conda/lib/python3.7/site-packages (from google-cloud-aiplatform) (3.9.0)\n",
      "Requirement already satisfied: packaging<22.0.0dev,>=14.3 in /opt/conda/lib/python3.7/site-packages (from google-cloud-aiplatform) (21.3)\n",
      "Requirement already satisfied: googleapis-common-protos<2.0dev,>=1.56.2 in /opt/conda/lib/python3.7/site-packages (from google-api-core[grpc]!=2.0.*,!=2.1.*,!=2.2.*,!=2.3.*,!=2.4.*,!=2.5.*,!=2.6.*,!=2.7.*,<3.0.0dev,>=1.32.0->google-cloud-aiplatform) (1.59.0)\n",
      "Requirement already satisfied: requests<3.0.0dev,>=2.18.0 in /opt/conda/lib/python3.7/site-packages (from google-api-core[grpc]!=2.0.*,!=2.1.*,!=2.2.*,!=2.3.*,!=2.4.*,!=2.5.*,!=2.6.*,!=2.7.*,<3.0.0dev,>=1.32.0->google-cloud-aiplatform) (2.28.2)\n",
      "Requirement already satisfied: google-auth<3.0dev,>=1.25.0 in /opt/conda/lib/python3.7/site-packages (from google-api-core[grpc]!=2.0.*,!=2.1.*,!=2.2.*,!=2.3.*,!=2.4.*,!=2.5.*,!=2.6.*,!=2.7.*,<3.0.0dev,>=1.32.0->google-cloud-aiplatform) (2.17.2)\n",
      "Requirement already satisfied: grpcio-status<2.0dev,>=1.33.2 in /opt/conda/lib/python3.7/site-packages (from google-api-core[grpc]!=2.0.*,!=2.1.*,!=2.2.*,!=2.3.*,!=2.4.*,!=2.5.*,!=2.6.*,!=2.7.*,<3.0.0dev,>=1.32.0->google-cloud-aiplatform) (1.48.2)\n",
      "Requirement already satisfied: grpcio<2.0dev,>=1.33.2 in /opt/conda/lib/python3.7/site-packages (from google-api-core[grpc]!=2.0.*,!=2.1.*,!=2.2.*,!=2.3.*,!=2.4.*,!=2.5.*,!=2.6.*,!=2.7.*,<3.0.0dev,>=1.32.0->google-cloud-aiplatform) (1.53.0)\n",
      "Requirement already satisfied: google-resumable-media<3.0dev,>=0.6.0 in /opt/conda/lib/python3.7/site-packages (from google-cloud-bigquery<4.0.0dev,>=1.15.0->google-cloud-aiplatform) (2.4.1)\n",
      "Requirement already satisfied: python-dateutil<3.0dev,>=2.7.2 in /opt/conda/lib/python3.7/site-packages (from google-cloud-bigquery<4.0.0dev,>=1.15.0->google-cloud-aiplatform) (2.8.2)\n",
      "Requirement already satisfied: google-cloud-core<3.0.0dev,>=1.6.0 in /opt/conda/lib/python3.7/site-packages (from google-cloud-bigquery<4.0.0dev,>=1.15.0->google-cloud-aiplatform) (2.3.2)\n",
      "Requirement already satisfied: grpc-google-iam-v1<1.0.0dev,>=0.12.4 in /opt/conda/lib/python3.7/site-packages (from google-cloud-resource-manager<3.0.0dev,>=1.3.3->google-cloud-aiplatform) (0.12.6)\n",
      "Requirement already satisfied: pyparsing!=3.0.5,>=2.0.2 in /opt/conda/lib/python3.7/site-packages (from packaging<22.0.0dev,>=14.3->google-cloud-aiplatform) (3.0.9)\n",
      "Requirement already satisfied: cachetools<6.0,>=2.0.0 in /opt/conda/lib/python3.7/site-packages (from google-auth<3.0dev,>=1.25.0->google-api-core[grpc]!=2.0.*,!=2.1.*,!=2.2.*,!=2.3.*,!=2.4.*,!=2.5.*,!=2.6.*,!=2.7.*,<3.0.0dev,>=1.32.0->google-cloud-aiplatform) (5.3.0)\n",
      "Requirement already satisfied: six>=1.9.0 in /opt/conda/lib/python3.7/site-packages (from google-auth<3.0dev,>=1.25.0->google-api-core[grpc]!=2.0.*,!=2.1.*,!=2.2.*,!=2.3.*,!=2.4.*,!=2.5.*,!=2.6.*,!=2.7.*,<3.0.0dev,>=1.32.0->google-cloud-aiplatform) (1.16.0)\n",
      "Requirement already satisfied: pyasn1-modules>=0.2.1 in /opt/conda/lib/python3.7/site-packages (from google-auth<3.0dev,>=1.25.0->google-api-core[grpc]!=2.0.*,!=2.1.*,!=2.2.*,!=2.3.*,!=2.4.*,!=2.5.*,!=2.6.*,!=2.7.*,<3.0.0dev,>=1.32.0->google-cloud-aiplatform) (0.2.8)\n",
      "Requirement already satisfied: rsa<5,>=3.1.4 in /opt/conda/lib/python3.7/site-packages (from google-auth<3.0dev,>=1.25.0->google-api-core[grpc]!=2.0.*,!=2.1.*,!=2.2.*,!=2.3.*,!=2.4.*,!=2.5.*,!=2.6.*,!=2.7.*,<3.0.0dev,>=1.32.0->google-cloud-aiplatform) (4.9)\n",
      "Requirement already satisfied: google-crc32c<2.0dev,>=1.0 in /opt/conda/lib/python3.7/site-packages (from google-resumable-media<3.0dev,>=0.6.0->google-cloud-bigquery<4.0.0dev,>=1.15.0->google-cloud-aiplatform) (1.5.0)\n",
      "Requirement already satisfied: certifi>=2017.4.17 in /opt/conda/lib/python3.7/site-packages (from requests<3.0.0dev,>=2.18.0->google-api-core[grpc]!=2.0.*,!=2.1.*,!=2.2.*,!=2.3.*,!=2.4.*,!=2.5.*,!=2.6.*,!=2.7.*,<3.0.0dev,>=1.32.0->google-cloud-aiplatform) (2022.12.7)\n",
      "Requirement already satisfied: idna<4,>=2.5 in /opt/conda/lib/python3.7/site-packages (from requests<3.0.0dev,>=2.18.0->google-api-core[grpc]!=2.0.*,!=2.1.*,!=2.2.*,!=2.3.*,!=2.4.*,!=2.5.*,!=2.6.*,!=2.7.*,<3.0.0dev,>=1.32.0->google-cloud-aiplatform) (3.4)\n",
      "Requirement already satisfied: charset-normalizer<4,>=2 in /opt/conda/lib/python3.7/site-packages (from requests<3.0.0dev,>=2.18.0->google-api-core[grpc]!=2.0.*,!=2.1.*,!=2.2.*,!=2.3.*,!=2.4.*,!=2.5.*,!=2.6.*,!=2.7.*,<3.0.0dev,>=1.32.0->google-cloud-aiplatform) (3.1.0)\n",
      "Requirement already satisfied: urllib3<1.27,>=1.21.1 in /opt/conda/lib/python3.7/site-packages (from requests<3.0.0dev,>=2.18.0->google-api-core[grpc]!=2.0.*,!=2.1.*,!=2.2.*,!=2.3.*,!=2.4.*,!=2.5.*,!=2.6.*,!=2.7.*,<3.0.0dev,>=1.32.0->google-cloud-aiplatform) (1.26.15)\n",
      "Requirement already satisfied: pyasn1<0.5.0,>=0.4.6 in /opt/conda/lib/python3.7/site-packages (from pyasn1-modules>=0.2.1->google-auth<3.0dev,>=1.25.0->google-api-core[grpc]!=2.0.*,!=2.1.*,!=2.2.*,!=2.3.*,!=2.4.*,!=2.5.*,!=2.6.*,!=2.7.*,<3.0.0dev,>=1.32.0->google-cloud-aiplatform) (0.4.8)\n",
      "Requirement already satisfied: google-cloud-storage in /opt/conda/lib/python3.7/site-packages (2.8.0)\n",
      "Requirement already satisfied: google-auth<3.0dev,>=1.25.0 in /opt/conda/lib/python3.7/site-packages (from google-cloud-storage) (2.17.2)\n",
      "Requirement already satisfied: google-resumable-media>=2.3.2 in /opt/conda/lib/python3.7/site-packages (from google-cloud-storage) (2.4.1)\n",
      "Requirement already satisfied: requests<3.0.0dev,>=2.18.0 in /opt/conda/lib/python3.7/site-packages (from google-cloud-storage) (2.28.2)\n",
      "Requirement already satisfied: google-api-core!=2.0.*,!=2.1.*,!=2.2.*,!=2.3.0,<3.0.0dev,>=1.31.5 in /opt/conda/lib/python3.7/site-packages (from google-cloud-storage) (1.34.0)\n",
      "Requirement already satisfied: google-cloud-core<3.0dev,>=2.3.0 in /opt/conda/lib/python3.7/site-packages (from google-cloud-storage) (2.3.2)\n",
      "Requirement already satisfied: googleapis-common-protos<2.0dev,>=1.56.2 in /opt/conda/lib/python3.7/site-packages (from google-api-core!=2.0.*,!=2.1.*,!=2.2.*,!=2.3.0,<3.0.0dev,>=1.31.5->google-cloud-storage) (1.59.0)\n",
      "Requirement already satisfied: protobuf!=3.20.0,!=3.20.1,!=4.21.0,!=4.21.1,!=4.21.2,!=4.21.3,!=4.21.4,!=4.21.5,<4.0.0dev,>=3.19.5 in /opt/conda/lib/python3.7/site-packages (from google-api-core!=2.0.*,!=2.1.*,!=2.2.*,!=2.3.0,<3.0.0dev,>=1.31.5->google-cloud-storage) (3.20.3)\n",
      "Requirement already satisfied: rsa<5,>=3.1.4 in /opt/conda/lib/python3.7/site-packages (from google-auth<3.0dev,>=1.25.0->google-cloud-storage) (4.9)\n",
      "Requirement already satisfied: pyasn1-modules>=0.2.1 in /opt/conda/lib/python3.7/site-packages (from google-auth<3.0dev,>=1.25.0->google-cloud-storage) (0.2.8)\n",
      "Requirement already satisfied: six>=1.9.0 in /opt/conda/lib/python3.7/site-packages (from google-auth<3.0dev,>=1.25.0->google-cloud-storage) (1.16.0)\n",
      "Requirement already satisfied: cachetools<6.0,>=2.0.0 in /opt/conda/lib/python3.7/site-packages (from google-auth<3.0dev,>=1.25.0->google-cloud-storage) (5.3.0)\n",
      "Requirement already satisfied: google-crc32c<2.0dev,>=1.0 in /opt/conda/lib/python3.7/site-packages (from google-resumable-media>=2.3.2->google-cloud-storage) (1.5.0)\n",
      "Requirement already satisfied: idna<4,>=2.5 in /opt/conda/lib/python3.7/site-packages (from requests<3.0.0dev,>=2.18.0->google-cloud-storage) (3.4)\n",
      "Requirement already satisfied: charset-normalizer<4,>=2 in /opt/conda/lib/python3.7/site-packages (from requests<3.0.0dev,>=2.18.0->google-cloud-storage) (3.1.0)\n",
      "Requirement already satisfied: urllib3<1.27,>=1.21.1 in /opt/conda/lib/python3.7/site-packages (from requests<3.0.0dev,>=2.18.0->google-cloud-storage) (1.26.15)\n",
      "Requirement already satisfied: certifi>=2017.4.17 in /opt/conda/lib/python3.7/site-packages (from requests<3.0.0dev,>=2.18.0->google-cloud-storage) (2022.12.7)\n",
      "Requirement already satisfied: pyasn1<0.5.0,>=0.4.6 in /opt/conda/lib/python3.7/site-packages (from pyasn1-modules>=0.2.1->google-auth<3.0dev,>=1.25.0->google-cloud-storage) (0.4.8)\n"
     ]
    }
   ],
   "source": [
    "!pip install google-cloud-aiplatform\n",
    "!pip install google-cloud-storage"
   ]
  },
  {
   "cell_type": "code",
   "execution_count": 30,
   "id": "c22bf8f6-f704-4a60-afef-bace8e047e99",
   "metadata": {},
   "outputs": [],
   "source": [
    "from google.cloud import aiplatform\n",
    "from google.cloud import storage\n",
    "import datetime\n",
    "import os"
   ]
  },
  {
   "cell_type": "code",
   "execution_count": 42,
   "id": "4be01447-fb68-4b46-87eb-015365292d5b",
   "metadata": {},
   "outputs": [],
   "source": [
    "PROJECT_ID = 'YOUR-PROJECT'\n",
    "CONTAINER_URI = f'gcr.io/{PROJECT_ID}/demo-kedro-spaceflights'\n",
    "BUCKET_NAME='demo-kedro-spaceflights'\n",
    "BUCKET_URI=f'gs://{BUCKET_NAME}'\n",
    "\n",
    "MACHINE_TYPE='n1-standard-4'\n",
    "REPLICA_COUNT=1\n",
    "REGION='us-central1'"
   ]
  },
  {
   "cell_type": "markdown",
   "id": "bf741a7f-f903-4402-87f9-2409e48a8375",
   "metadata": {},
   "source": [
    "## Create GCS bucket"
   ]
  },
  {
   "cell_type": "code",
   "execution_count": 43,
   "id": "faa317b6-22ba-492f-8fac-011b47a2e3c6",
   "metadata": {},
   "outputs": [],
   "source": [
    "# Instantiates a client\n",
    "storage_client = storage.Client()"
   ]
  },
  {
   "cell_type": "code",
   "execution_count": 44,
   "id": "f8cac662-95e1-4292-85fd-67b65d1c45c8",
   "metadata": {},
   "outputs": [
    {
     "data": {
      "text/plain": [
       "['artifacts.lively-crane-384007.appspot.com',\n",
       " 'demo-kedro-iris',\n",
       " 'demo-kedro-vertexai-spaceflights',\n",
       " 'gcf-sources-902191593306-us-west1',\n",
       " 'telco-data-mocker',\n",
       " 'telco-datamocker',\n",
       " 'us.artifacts.lively-crane-384007.appspot.com']"
      ]
     },
     "execution_count": 44,
     "metadata": {},
     "output_type": "execute_result"
    }
   ],
   "source": [
    "buckets = storage_client.list_buckets()\n",
    "bucket_names = [bucket.name for bucket in buckets]\n",
    "bucket_names"
   ]
  },
  {
   "cell_type": "code",
   "execution_count": 45,
   "id": "fe0796b0-bd8a-42af-9380-ca069205c17d",
   "metadata": {},
   "outputs": [
    {
     "name": "stdout",
     "output_type": "stream",
     "text": [
      "Created bucket demo-kedro-spaceflights in US-CENTRAL1 with storage class STANDARD\n",
      "Copying file://../data/01_raw/shuttles.csv [Content-Type=text/csv]...\n",
      "Copying file://../data/01_raw/reviews.csv [Content-Type=text/csv]...\n",
      "Copying file://../data/01_raw/.gitkeep [Content-Type=application/octet-stream]...\n",
      "Copying file://../data/01_raw/companies.csv [Content-Type=text/csv]...          \n",
      "Copying file://../data/01_raw/.ipynb_checkpoints/shuttles-checkpoint.csv [Content-Type=text/csv]...\n",
      "Copying file://../data/01_raw/.ipynb_checkpoints/reviews-checkpoint.csv [Content-Type=text/csv]...\n",
      "Copying file://../data/01_raw/.ipynb_checkpoints/companies-checkpoint.csv [Content-Type=text/csv]...\n",
      "\\ [7/7 files][ 22.5 MiB/ 22.5 MiB] 100% Done                                    \n",
      "Operation completed over 7 objects/22.5 MiB.                                     \n"
     ]
    }
   ],
   "source": [
    "if not BUCKET_NAME in bucket_names:\n",
    "    bucket = storage_client.bucket(BUCKET_NAME)\n",
    "    new_bucket = storage_client.create_bucket(bucket, location=REGION)\n",
    "    print(\"Created bucket {} in {} with storage class {}\"\n",
    "          .format(\n",
    "              new_bucket.name, new_bucket.location, new_bucket.storage_class\n",
    "        ))\n",
    "    # Upload the spaceflight data to Bucket\n",
    "    os.environ['BUCKET_URI'] = BUCKET_URI\n",
    "    !gsutil -m cp -r ../data/01_raw $BUCKET_URI/data/01_raw"
   ]
  },
  {
   "cell_type": "markdown",
   "id": "21110b19-e7c6-4254-898c-767a05b20d4b",
   "metadata": {},
   "source": [
    "## Customize Kedro project for GCP\n",
    "\n",
    "Configuration to run the kedro on GCP is customized in `GCP-Kedro-spaceflight/conf/gcp`:\n",
    "\n",
    "- `catalog.yaml`: Change the paths of data to GCP storage services (GCS, BigQuery)\n",
    "- `spark.yaml`: Change the spark config to enable I/O with `gcs.GoogleHadoopFileSystem`\n",
    "\n",
    "\n",
    "Switching to run on GCP by specify the environment in Kedro CLI\n",
    "```\n",
    "kedro run --env=gcp\n",
    "```"
   ]
  },
  {
   "cell_type": "markdown",
   "id": "e83c0ef0-510f-4c4c-bbc3-cbe5b7d033fe",
   "metadata": {},
   "source": [
    "## Containerize Kedro project\n",
    "\n",
    "Build docker image\n",
    "\n",
    "```\n",
    "docker build \\\n",
    " -t gcr.io/$PROJECT_ID/$GCR_REPO_NAME:latest \\\n",
    " .\n",
    "```\n",
    "\n",
    "Test locally (or on Vertex workbench):\n",
    "\n",
    "```\n",
    "docker run gcr.io/$PROJECT_ID/$GCR_REPO_NAME:latest\n",
    "```\n",
    "\n",
    "Push the image to Container/Artifact registry:\n",
    "\n",
    "```\n",
    "docker push gcr.io/$PROJECT_ID/$GCR_REPO_NAME:latest\n",
    "```"
   ]
  },
  {
   "cell_type": "markdown",
   "id": "30b8c138-7bf0-407a-893e-dc03944227a5",
   "metadata": {},
   "source": [
    "## Run a Kedro pipeline as Vertex job"
   ]
  },
  {
   "cell_type": "code",
   "execution_count": 48,
   "id": "67a8ac2a-821e-474a-bc32-a501627b7677",
   "metadata": {},
   "outputs": [],
   "source": [
    "aiplatform.init(project=PROJECT_ID, staging_bucket=f'{BUCKET_URI}/vertex_staging')"
   ]
  },
  {
   "cell_type": "code",
   "execution_count": 49,
   "id": "c65a1724-934d-42a5-b6c5-d20b4c59781c",
   "metadata": {},
   "outputs": [
    {
     "name": "stdout",
     "output_type": "stream",
     "text": [
      "<google.cloud.aiplatform.training_jobs.CustomContainerTrainingJob object at 0x7fe0a0e4ea90>\n"
     ]
    }
   ],
   "source": [
    "JOB_NAME = 'test_kedro_spaceflights'\n",
    "run_timestamp = datetime.datetime.now().strftime('%Y%m%d-%H%M%S')\n",
    "\n",
    "job = aiplatform.CustomContainerTrainingJob(\n",
    "    display_name=f\"{JOB_NAME}_{run_timestamp}\",\n",
    "    container_uri=CONTAINER_URI,\n",
    ")\n",
    "\n",
    "print(job)"
   ]
  },
  {
   "cell_type": "code",
   "execution_count": 50,
   "id": "aaabc8d3-bc33-446b-8111-edeb232dd442",
   "metadata": {},
   "outputs": [
    {
     "name": "stdout",
     "output_type": "stream",
     "text": [
      "Training Output directory:\n",
      "gs://demo-kedro-spaceflights/vertex_staging/aiplatform-custom-training-2023-04-25-10:26:43.927 \n",
      "View Training:\n",
      "https://console.cloud.google.com/ai/platform/locations/us-central1/training/1909360628066156544?project=902191593306\n",
      "View backing custom job:\n",
      "https://console.cloud.google.com/ai/platform/locations/us-central1/training/5434342130157879296?project=902191593306\n",
      "CustomContainerTrainingJob projects/902191593306/locations/us-central1/trainingPipelines/1909360628066156544 current state:\n",
      "PipelineState.PIPELINE_STATE_RUNNING\n",
      "CustomContainerTrainingJob projects/902191593306/locations/us-central1/trainingPipelines/1909360628066156544 current state:\n",
      "PipelineState.PIPELINE_STATE_RUNNING\n",
      "CustomContainerTrainingJob projects/902191593306/locations/us-central1/trainingPipelines/1909360628066156544 current state:\n",
      "PipelineState.PIPELINE_STATE_RUNNING\n",
      "CustomContainerTrainingJob projects/902191593306/locations/us-central1/trainingPipelines/1909360628066156544 current state:\n",
      "PipelineState.PIPELINE_STATE_RUNNING\n",
      "CustomContainerTrainingJob run completed. Resource name: projects/902191593306/locations/us-central1/trainingPipelines/1909360628066156544\n",
      "Training did not produce a Managed Model returning None. Training Pipeline projects/902191593306/locations/us-central1/trainingPipelines/1909360628066156544 is not configured to upload a Model. Create the Training Pipeline with model_serving_container_image_uri and model_display_name passed in. Ensure that your training script saves to model to os.environ['AIP_MODEL_DIR'].\n"
     ]
    }
   ],
   "source": [
    "model = job.run(\n",
    "    replica_count=REPLICA_COUNT,\n",
    "    machine_type=MACHINE_TYPE\n",
    ")"
   ]
  },
  {
   "cell_type": "markdown",
   "id": "63745aeb-cee0-4ee0-b630-846f8ab21f2f",
   "metadata": {},
   "source": [
    "## Vertex Job / Logging\n",
    "\n",
    "Kedro pipeline run as a Vertex Custom Job\n",
    "\n",
    "![](./images/vertex-custom-job.png)\n",
    "\n",
    "Logging\n",
    "\n",
    "![](./images/vertex-job-logging.png)"
   ]
  },
  {
   "cell_type": "code",
   "execution_count": null,
   "id": "b34039ea-904c-438e-b532-518bd39662c7",
   "metadata": {},
   "outputs": [],
   "source": []
  }
 ],
 "metadata": {
  "environment": {
   "kernel": "python3",
   "name": "common-cpu.m107",
   "type": "gcloud",
   "uri": "gcr.io/deeplearning-platform-release/base-cpu:m107"
  },
  "kernelspec": {
   "display_name": "Python 3",
   "language": "python",
   "name": "python3"
  },
  "language_info": {
   "codemirror_mode": {
    "name": "ipython",
    "version": 3
   },
   "file_extension": ".py",
   "mimetype": "text/x-python",
   "name": "python",
   "nbconvert_exporter": "python",
   "pygments_lexer": "ipython3",
   "version": "3.7.12"
  }
 },
 "nbformat": 4,
 "nbformat_minor": 5
}
